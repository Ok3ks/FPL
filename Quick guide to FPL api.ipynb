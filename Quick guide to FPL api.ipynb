{
    "cells": [
        {
            "cell_type": "code",
            "execution_count": 2,
            "metadata": {},
            "outputs": [],
            "source": [
                "import requests"
            ]
        },
        {
            "cell_type": "code",
            "execution_count": 5,
            "metadata": {},
            "outputs": [
                {
                    "data": {
                        "text/plain": [
                            "dict_keys(['new_entries', 'last_updated_data', 'league', 'standings'])"
                        ]
                    },
                    "execution_count": 5,
                    "metadata": {},
                    "output_type": "execute_result"
                }
            ],
            "source": [
                "league_id = 280620\n",
                "#You can access members of your leagues with this code\n",
                "league_url = f\"https://fantasy.premierleague.com/api/leagues-classic/{league_id}/standings/?page_new_entries=1&page_standings=1&phase=1\"\n",
                "#with the main api, You can access players, teams, fixtures, phases of the game. Use json.keys() to Dictionary of elements\n",
                "FPL_url = \"https://fantasy.premierleague.com/api/bootstrap-static/\"\n",
                "#Access Entry picks with the team_id\n",
                "player_id = 775393\n",
                "url_2 = f\"https://fantasy.premierleague.com/api/entry/{player_id}/event/3/picks/\"\n",
                "\n",
                "\n",
                "r = requests.get(url)\n",
                "json = r.json()\n",
                "json.keys()"
            ]
        }
    ],
    "metadata": {
        "interpreter": {
            "hash": "8f0b0387341158368e76e37e041ace2634b8300c178d0bf8661e3da462a1a4ca"
        },
        "kernelspec": {
            "display_name": "Python 3.9.4 64-bit",
            "name": "python3"
        },
        "language_info": {
            "codemirror_mode": {
                "name": "ipython",
                "version": 3
            },
            "file_extension": ".py",
            "mimetype": "text/x-python",
            "name": "python",
            "nbconvert_exporter": "python",
            "pygments_lexer": "ipython3",
            "version": "3.9.4"
        },
        "orig_nbformat": 4
    },
    "nbformat": 4,
    "nbformat_minor": 2
}
