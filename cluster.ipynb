{
 "cells": [
  {
   "cell_type": "code",
   "execution_count": 112,
   "metadata": {},
   "outputs": [],
   "source": [
    "import pandas as pd\n",
    "from sklearn.cluster import KMeans\n",
    "from scipy.cluster.vq import whiten,kmeans2\n",
    "import numpy as np\n",
    "import matplotlib.pyplot as plt\n",
    "import requests"
   ]
  },
  {
   "cell_type": "code",
   "execution_count": 113,
   "metadata": {},
   "outputs": [],
   "source": [
    "url ='https://fantasy.premierleague.com/api/bootstrap-static/'\n",
    "r = requests.get(url)\n",
    "json = r.json()\n",
    "json.keys()\n",
    "elements_df = pd.DataFrame(json['elements']) #Creating data frame for element\n",
    "elements_types_df = pd.DataFrame(json['element_types'])\n",
    "teams_df = pd.DataFrame(json['teams'])"
   ]
  },
  {
   "cell_type": "code",
   "execution_count": 128,
   "metadata": {},
   "outputs": [
    {
     "data": {
      "text/plain": [
       "1045"
      ]
     },
     "execution_count": 128,
     "metadata": {},
     "output_type": "execute_result"
    }
   ],
   "source": [
    "teams_df['strength_overall_home'].min()"
   ]
  },
  {
   "attachments": {},
   "cell_type": "markdown",
   "metadata": {},
   "source": [
    "CLUSTERING BASED ON PERFORMANCE"
   ]
  },
  {
   "cell_type": "code",
   "execution_count": 90,
   "metadata": {},
   "outputs": [],
   "source": [
    "file = \"csvs/2022_player_data.csv\"\n",
    "start_price_file = \"csvs/2022_2023_start_price.csv\"\n",
    "\n",
    "input = pd.read_csv(file)\n"
   ]
  },
  {
   "cell_type": "code",
   "execution_count": 91,
   "metadata": {},
   "outputs": [
    {
     "data": {
      "text/plain": [
       "Index(['chance_of_playing_next_round', 'chance_of_playing_this_round', 'code',\n",
       "       'cost_change_event', 'cost_change_event_fall', 'cost_change_start',\n",
       "       'cost_change_start_fall', 'dreamteam_count', 'element_type', 'ep_next',\n",
       "       'ep_this', 'event_points', 'first_name', 'form', 'id', 'in_dreamteam',\n",
       "       'news', 'news_added', 'now_cost', 'photo', 'points_per_game',\n",
       "       'second_name', 'selected_by_percent', 'special', 'squad_number',\n",
       "       'status', 'team', 'team_code', 'total_points', 'transfers_in',\n",
       "       'transfers_in_event', 'transfers_out', 'transfers_out_event',\n",
       "       'value_form', 'value_season', 'web_name', 'minutes', 'goals_scored',\n",
       "       'assists', 'clean_sheets', 'goals_conceded', 'own_goals',\n",
       "       'penalties_saved', 'penalties_missed', 'yellow_cards', 'red_cards',\n",
       "       'saves', 'bonus', 'bps', 'influence', 'creativity', 'threat',\n",
       "       'ict_index', 'influence_rank', 'influence_rank_type', 'creativity_rank',\n",
       "       'creativity_rank_type', 'threat_rank', 'threat_rank_type',\n",
       "       'ict_index_rank', 'ict_index_rank_type',\n",
       "       'corners_and_indirect_freekicks_order',\n",
       "       'corners_and_indirect_freekicks_text', 'direct_freekicks_order',\n",
       "       'direct_freekicks_text', 'penalties_order', 'penalties_text'],\n",
       "      dtype='object')"
      ]
     },
     "execution_count": 91,
     "metadata": {},
     "output_type": "execute_result"
    }
   ],
   "source": [
    "input.columns"
   ]
  },
  {
   "cell_type": "code",
   "execution_count": 133,
   "metadata": {},
   "outputs": [],
   "source": [
    "mid_features = ['influence', 'threat', 'ict_index_rank','team_code', 'bps', 'creativity_rank', 'threat_rank', 'value_season',  'creativity', 'form','in_dreamteam', 'goals_scored','corners_and_indirect_freekicks_order', 'direct_freekicks_order','penalties_order']\n",
    "input.fillna(0, inplace= True)\n",
    "mid_df = input[input.element_type == 3][mid_features]\n",
    "mid_df = mid_df.astype(float)\n",
    "mid_df['team_code'] = mid_df['team_code'].astype(int)\n",
    "mid_df = mid_df.join(teams_df[['strength_overall_home','strength_attack_home','strength_attack_away','strength_overall_away']], on = 'team_code', how='left')\n",
    "mid_df.fillna(1000, inplace= True)"
   ]
  },
  {
   "cell_type": "code",
   "execution_count": 134,
   "metadata": {},
   "outputs": [
    {
     "data": {
      "text/plain": [
       "array([[ 0.        ,  0.        ,  3.13463459, ..., 14.23562812,\n",
       "        12.1147685 , 11.33846576],\n",
       "       [ 1.56192418,  0.8249501 ,  0.49179124, ..., 14.23562812,\n",
       "        12.1147685 , 11.33846576],\n",
       "       [ 0.64467887,  0.15428456,  1.48820305, ..., 14.23562812,\n",
       "        12.1147685 , 11.33846576],\n",
       "       ...,\n",
       "       [ 0.        ,  0.        ,  2.81390118, ..., 12.94148011,\n",
       "        10.91420585, 10.0340405 ],\n",
       "       [ 0.        ,  0.        ,  2.77113672, ..., 12.94148011,\n",
       "        10.91420585, 10.0340405 ],\n",
       "       [ 0.39265368,  0.37154241,  1.56517907, ..., 12.94148011,\n",
       "        10.91420585, 10.0340405 ]])"
      ]
     },
     "execution_count": 134,
     "metadata": {},
     "output_type": "execute_result"
    }
   ],
   "source": [
    "normalized = whiten(np.array(mid_df), check_finite= True)\n",
    "normalized"
   ]
  },
  {
   "cell_type": "code",
   "execution_count": 142,
   "metadata": {},
   "outputs": [
    {
     "name": "stdout",
     "output_type": "stream",
     "text": [
      "(309,)\n"
     ]
    },
    {
     "name": "stderr",
     "output_type": "stream",
     "text": [
      "/Users/max/Desktop/Code/Fantasy_premier_league/temp_env/lib/python3.8/site-packages/scipy/cluster/vq.py:602: UserWarning: One of the clusters is empty. Re-run kmeans with a different initialization.\n",
      "  warnings.warn(\"One of the clusters is empty. \"\n"
     ]
    },
    {
     "data": {
      "image/png": "[encoded data removed]",
      "text/plain": [
       "<Figure size 640x480 with 1 Axes>"
      ]
     },
     "metadata": {},
     "output_type": "display_data"
    }
   ],
   "source": [
    "cluster,distort = kmeans2(normalized, 8)\n",
    "print(distort.shape)\n",
    "plt.hist(distort)\n",
    "mid_df['category'] = distort.tolist()\n",
    "mid_df['code'] = input[input.element_type == 3].code"
   ]
  },
  {
   "cell_type": "code",
   "execution_count": 143,
   "metadata": {},
   "outputs": [],
   "source": [
    "mid_df['name'] = input['first_name'] + \" \" + input['second_name']"
   ]
  },
  {
   "cell_type": "code",
   "execution_count": 148,
   "metadata": {},
   "outputs": [
    {
     "data": {
      "text/plain": [
       "['Sadio Mané',\n",
       " 'Mohamed Salah',\n",
       " 'Kevin De Bruyne',\n",
       " 'Heung-Min Son',\n",
       " 'Jarrod Bowen']"
      ]
     },
     "execution_count": 148,
     "metadata": {},
     "output_type": "execute_result"
    }
   ],
   "source": [
    "mid_df[mid_df['category'] == 0].name.to_list()"
   ]
  },
  {
   "cell_type": "code",
   "execution_count": 86,
   "metadata": {},
   "outputs": [
    {
     "data": {
      "text/html": [
       "<div>\n",
       "<style scoped>\n",
       "    .dataframe tbody tr th:only-of-type {\n",
       "        vertical-align: middle;\n",
       "    }\n",
       "\n",
       "    .dataframe tbody tr th {\n",
       "        vertical-align: top;\n",
       "    }\n",
       "\n",
       "    .dataframe thead th {\n",
       "        text-align: right;\n",
       "    }\n",
       "</style>\n",
       "<table border=\"1\" class=\"dataframe\">\n",
       "  <thead>\n",
       "    <tr style=\"text-align: right;\">\n",
       "      <th></th>\n",
       "      <th>Unnamed: 0</th>\n",
       "      <th>now_cost</th>\n",
       "      <th>element_type</th>\n",
       "      <th>code</th>\n",
       "      <th>team</th>\n",
       "      <th>team_code</th>\n",
       "      <th>cost</th>\n",
       "    </tr>\n",
       "  </thead>\n",
       "  <tbody>\n",
       "    <tr>\n",
       "      <th>2</th>\n",
       "      <td>2</td>\n",
       "      <td>50</td>\n",
       "      <td>3</td>\n",
       "      <td>84450</td>\n",
       "      <td>1</td>\n",
       "      <td>3</td>\n",
       "      <td>5.0</td>\n",
       "    </tr>\n",
       "    <tr>\n",
       "      <th>3</th>\n",
       "      <td>3</td>\n",
       "      <td>45</td>\n",
       "      <td>3</td>\n",
       "      <td>153256</td>\n",
       "      <td>1</td>\n",
       "      <td>3</td>\n",
       "      <td>4.5</td>\n",
       "    </tr>\n",
       "    <tr>\n",
       "      <th>5</th>\n",
       "      <td>5</td>\n",
       "      <td>50</td>\n",
       "      <td>3</td>\n",
       "      <td>167199</td>\n",
       "      <td>1</td>\n",
       "      <td>3</td>\n",
       "      <td>5.0</td>\n",
       "    </tr>\n",
       "    <tr>\n",
       "      <th>6</th>\n",
       "      <td>6</td>\n",
       "      <td>65</td>\n",
       "      <td>3</td>\n",
       "      <td>184029</td>\n",
       "      <td>1</td>\n",
       "      <td>3</td>\n",
       "      <td>6.5</td>\n",
       "    </tr>\n",
       "    <tr>\n",
       "      <th>8</th>\n",
       "      <td>8</td>\n",
       "      <td>55</td>\n",
       "      <td>3</td>\n",
       "      <td>195735</td>\n",
       "      <td>1</td>\n",
       "      <td>3</td>\n",
       "      <td>5.5</td>\n",
       "    </tr>\n",
       "    <tr>\n",
       "      <th>...</th>\n",
       "      <td>...</td>\n",
       "      <td>...</td>\n",
       "      <td>...</td>\n",
       "      <td>...</td>\n",
       "      <td>...</td>\n",
       "      <td>...</td>\n",
       "      <td>...</td>\n",
       "    </tr>\n",
       "    <tr>\n",
       "      <th>523</th>\n",
       "      <td>523</td>\n",
       "      <td>55</td>\n",
       "      <td>3</td>\n",
       "      <td>247632</td>\n",
       "      <td>20</td>\n",
       "      <td>39</td>\n",
       "      <td>5.5</td>\n",
       "    </tr>\n",
       "    <tr>\n",
       "      <th>527</th>\n",
       "      <td>527</td>\n",
       "      <td>50</td>\n",
       "      <td>3</td>\n",
       "      <td>510363</td>\n",
       "      <td>20</td>\n",
       "      <td>39</td>\n",
       "      <td>5.0</td>\n",
       "    </tr>\n",
       "    <tr>\n",
       "      <th>528</th>\n",
       "      <td>528</td>\n",
       "      <td>55</td>\n",
       "      <td>3</td>\n",
       "      <td>159533</td>\n",
       "      <td>20</td>\n",
       "      <td>39</td>\n",
       "      <td>5.5</td>\n",
       "    </tr>\n",
       "    <tr>\n",
       "      <th>530</th>\n",
       "      <td>530</td>\n",
       "      <td>55</td>\n",
       "      <td>3</td>\n",
       "      <td>222531</td>\n",
       "      <td>20</td>\n",
       "      <td>39</td>\n",
       "      <td>5.5</td>\n",
       "    </tr>\n",
       "    <tr>\n",
       "      <th>532</th>\n",
       "      <td>532</td>\n",
       "      <td>50</td>\n",
       "      <td>3</td>\n",
       "      <td>19624</td>\n",
       "      <td>20</td>\n",
       "      <td>39</td>\n",
       "      <td>5.0</td>\n",
       "    </tr>\n",
       "  </tbody>\n",
       "</table>\n",
       "<p>227 rows × 7 columns</p>\n",
       "</div>"
      ],
      "text/plain": [
       "     Unnamed: 0  now_cost  element_type    code  team  team_code  cost\n",
       "2             2        50             3   84450     1          3   5.0\n",
       "3             3        45             3  153256     1          3   4.5\n",
       "5             5        50             3  167199     1          3   5.0\n",
       "6             6        65             3  184029     1          3   6.5\n",
       "8             8        55             3  195735     1          3   5.5\n",
       "..          ...       ...           ...     ...   ...        ...   ...\n",
       "523         523        55             3  247632    20         39   5.5\n",
       "527         527        50             3  510363    20         39   5.0\n",
       "528         528        55             3  159533    20         39   5.5\n",
       "530         530        55             3  222531    20         39   5.5\n",
       "532         532        50             3   19624    20         39   5.0\n",
       "\n",
       "[227 rows x 7 columns]"
      ]
     },
     "execution_count": 86,
     "metadata": {},
     "output_type": "execute_result"
    }
   ],
   "source": [
    "start_price = pd.read_csv(start_price_file)\n",
    "start_price = start_price[start_price.columns.tolist()[:-1]]\n",
    "start_price.astype(float)\n",
    "start_price[start_price.element_type == 3]"
   ]
  },
  {
   "cell_type": "code",
   "execution_count": 110,
   "metadata": {},
   "outputs": [
    {
     "data": {
      "text/plain": [
       "<AxesSubplot: ylabel='Frequency'>"
      ]
     },
     "execution_count": 110,
     "metadata": {},
     "output_type": "execute_result"
    },
    {
     "data": {
      "image/png": "[encoded data removed]",
      "text/plain": [
       "<Figure size 640x480 with 1 Axes>"
      ]
     },
     "metadata": {},
     "output_type": "display_data"
    }
   ],
   "source": [
    "start_price.cost.plot(kind='hist')"
   ]
  }
 ],
 "metadata": {
  "kernelspec": {
   "display_name": "temp_env",
   "language": "python",
   "name": "python3"
  },
  "language_info": {
   "codemirror_mode": {
    "name": "ipython",
    "version": 3
   },
   "file_extension": ".py",
   "mimetype": "text/x-python",
   "name": "python",
   "nbconvert_exporter": "python",
   "pygments_lexer": "ipython3",
   "version": "3.8.10 (v3.8.10:3d8993a744, May  3 2021, 09:09:08) \n[Clang 12.0.5 (clang-1205.0.22.9)]"
  },
  "orig_nbformat": 4,
  "vscode": {
   "interpreter": {
    "hash": "1532ada93f4ebcae8ffb1b30d4d148297060f6784d53d5b06d1959096ed3b2f2"
   }
  }
 },
 "nbformat": 4,
 "nbformat_minor": 2
}
